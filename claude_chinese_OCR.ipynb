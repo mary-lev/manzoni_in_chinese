{
  "nbformat": 4,
  "nbformat_minor": 0,
  "metadata": {
    "colab": {
      "provenance": [],
      "authorship_tag": "ABX9TyMtiQM7YdQNSNVedtxxYiFR",
      "include_colab_link": true
    },
    "kernelspec": {
      "name": "python3",
      "display_name": "Python 3"
    },
    "language_info": {
      "name": "python"
    }
  },
  "cells": [
    {
      "cell_type": "markdown",
      "metadata": {
        "id": "view-in-github",
        "colab_type": "text"
      },
      "source": [
        "<a href=\"https://colab.research.google.com/github/mary-lev/manzoni_in_chinese/blob/main/claude_chinese_OCR.ipynb\" target=\"_parent\"><img src=\"https://colab.research.google.com/assets/colab-badge.svg\" alt=\"Open In Colab\"/></a>"
      ]
    },
    {
      "cell_type": "code",
      "source": [
        "!pip install anthropic"
      ],
      "metadata": {
        "colab": {
          "base_uri": "https://localhost:8080/"
        },
        "id": "iVO1_G04Jp2B",
        "outputId": "e7bd8246-b62a-43bd-962f-9bfc79558ee8"
      },
      "execution_count": 3,
      "outputs": [
        {
          "output_type": "stream",
          "name": "stdout",
          "text": [
            "Collecting anthropic\n",
            "  Downloading anthropic-0.49.0-py3-none-any.whl.metadata (24 kB)\n",
            "Requirement already satisfied: anyio<5,>=3.5.0 in /usr/local/lib/python3.11/dist-packages (from anthropic) (3.7.1)\n",
            "Requirement already satisfied: distro<2,>=1.7.0 in /usr/local/lib/python3.11/dist-packages (from anthropic) (1.9.0)\n",
            "Requirement already satisfied: httpx<1,>=0.23.0 in /usr/local/lib/python3.11/dist-packages (from anthropic) (0.28.1)\n",
            "Requirement already satisfied: jiter<1,>=0.4.0 in /usr/local/lib/python3.11/dist-packages (from anthropic) (0.9.0)\n",
            "Requirement already satisfied: pydantic<3,>=1.9.0 in /usr/local/lib/python3.11/dist-packages (from anthropic) (2.10.6)\n",
            "Requirement already satisfied: sniffio in /usr/local/lib/python3.11/dist-packages (from anthropic) (1.3.1)\n",
            "Requirement already satisfied: typing-extensions<5,>=4.10 in /usr/local/lib/python3.11/dist-packages (from anthropic) (4.12.2)\n",
            "Requirement already satisfied: idna>=2.8 in /usr/local/lib/python3.11/dist-packages (from anyio<5,>=3.5.0->anthropic) (3.10)\n",
            "Requirement already satisfied: certifi in /usr/local/lib/python3.11/dist-packages (from httpx<1,>=0.23.0->anthropic) (2025.1.31)\n",
            "Requirement already satisfied: httpcore==1.* in /usr/local/lib/python3.11/dist-packages (from httpx<1,>=0.23.0->anthropic) (1.0.7)\n",
            "Requirement already satisfied: h11<0.15,>=0.13 in /usr/local/lib/python3.11/dist-packages (from httpcore==1.*->httpx<1,>=0.23.0->anthropic) (0.14.0)\n",
            "Requirement already satisfied: annotated-types>=0.6.0 in /usr/local/lib/python3.11/dist-packages (from pydantic<3,>=1.9.0->anthropic) (0.7.0)\n",
            "Requirement already satisfied: pydantic-core==2.27.2 in /usr/local/lib/python3.11/dist-packages (from pydantic<3,>=1.9.0->anthropic) (2.27.2)\n",
            "Downloading anthropic-0.49.0-py3-none-any.whl (243 kB)\n",
            "\u001b[2K   \u001b[90m━━━━━━━━━━━━━━━━━━━━━━━━━━━━━━━━━━━━━━━━\u001b[0m \u001b[32m243.4/243.4 kB\u001b[0m \u001b[31m4.5 MB/s\u001b[0m eta \u001b[36m0:00:00\u001b[0m\n",
            "\u001b[?25hInstalling collected packages: anthropic\n",
            "Successfully installed anthropic-0.49.0\n"
          ]
        }
      ]
    },
    {
      "cell_type": "code",
      "source": [
        "import os\n",
        "import base64\n",
        "import argparse\n",
        "from tqdm import tqdm\n",
        "import anthropic\n",
        "from PIL import Image\n",
        "import io\n",
        "\n",
        "def encode_image_to_base64(image_path):\n",
        "    \"\"\"Convert an image to base64 encoding\"\"\"\n",
        "    with open(image_path, \"rb\") as image_file:\n",
        "        return base64.b64encode(image_file.read()).decode('utf-8')"
      ],
      "metadata": {
        "id": "6yamAmoaJk3e"
      },
      "execution_count": 4,
      "outputs": []
    },
    {
      "cell_type": "code",
      "execution_count": 5,
      "metadata": {
        "id": "bboGjJw_JUb3"
      },
      "outputs": [],
      "source": [
        "def ocr_with_claude(client, image_path, model=\"claude-3-7-sonnet-20250219\"):\n",
        "    \"\"\"\n",
        "    Send an image to Claude API for OCR processing using the Anthropic Python client\n",
        "\n",
        "    Args:\n",
        "        client: Anthropic API client\n",
        "        image_path: Path to the image file\n",
        "        model: Claude model to use\n",
        "\n",
        "    Returns:\n",
        "        Extracted text from the image\n",
        "    \"\"\"\n",
        "    base64_image = encode_image_to_base64(image_path)\n",
        "\n",
        "    message = client.messages.create(\n",
        "        model=model,\n",
        "        max_tokens=4000,\n",
        "        messages=[\n",
        "            {\n",
        "                \"role\": \"user\",\n",
        "                \"content\": [\n",
        "                    {\n",
        "                        \"type\": \"text\",\n",
        "                        \"text\": \"Please OCR the Chinese text in this image. Return only the extracted text, with proper spacing and paragraph breaks. Do not include any explanations or comments.\"\n",
        "                    },\n",
        "                    {\n",
        "                        \"type\": \"image\",\n",
        "                        \"source\": {\n",
        "                            \"type\": \"base64\",\n",
        "                            \"media_type\": \"image/jpeg\",\n",
        "                            \"data\": base64_image\n",
        "                        }\n",
        "                    }\n",
        "                ]\n",
        "            }\n",
        "        ]\n",
        "    )\n",
        "\n",
        "    # The response content will be a list, we want the first text item\n",
        "    if message.content:\n",
        "        for content_block in message.content:\n",
        "            if content_block.type == \"text\":\n",
        "                return content_block.text\n",
        "\n",
        "    return None\n"
      ]
    },
    {
      "cell_type": "code",
      "source": [
        "from google.colab import userdata\n",
        "\n",
        "client = anthropic.Anthropic(api_key=userdata.get('CLAUDE_API_KEY'))\n",
        "image_path = \"page33.jpg\"\n",
        "\n",
        "extracted_text = ocr_with_claude(client, image_path)"
      ],
      "metadata": {
        "id": "vyey-awpJch3"
      },
      "execution_count": 8,
      "outputs": []
    },
    {
      "cell_type": "code",
      "source": [
        "extracted_text"
      ],
      "metadata": {
        "colab": {
          "base_uri": "https://localhost:8080/",
          "height": 122
        },
        "id": "ZpQc_kVGKWwa",
        "outputId": "dae89ab3-2137-4bb4-84e0-77c027ed39d2"
      },
      "execution_count": 9,
      "outputs": [
        {
          "output_type": "execute_result",
          "data": {
            "text/plain": [
              "'第二章\\n\\n据说,孔德王子在罗科洛伊①一战的前夜酣睡了一宿:其一，因为他感到疲惫不堪;其二,他事先早就作好了一切必要的部署，并拟定了翌晨的作战方案。然而,堂·安保迪却仅仅知道,次日将有一场激烈的战斗,故心中极度不安,几乎整夜都在考虑对策。显然,汉视警告和威胁,照样主持婚礼的做法,他甚至连想都没敢想。对兰佐讲明实情,然后同他一起商量对付的办法……天主不容！那两个打手中的一个曾对他说过：\"不许走漏半点风声……否则……嗯！\"想至此,那个\"嗯\"字的菱鸣声再一次在堂·安保迪的耳畔作响,吓得他根本不敢考虑违抗命令,他甚至后悔同佩尔贝多亚谈起过此事。一走了事？可是去哪里呢？然后怎么办？困难重重,谈何容易！许许多多主意被可怜的教士一一否定,他躺在床上辗转反侧,难以入睡。他觉得,不管从哪一个方面分析,争取时间故意拖延兰佐的婚事万是上策。他突然想起,离开定下举办婚礼的日子已没剩下几天了,如果能将兰佐这小子稳住,他就有两个月得以喘息的时间,在两个月里,事情可能会出现重要的转机。他再三琢磨,尽力想找一些借口搪塞兰佐。尽管那些借口似乎都显得有一点苍白,但他转眼一想心中又觉坦然,因为他自身的名望无形中给他的借口增加了不少分量,他丰富的阅历也为他制服一个无\\n\\n① 今法国东北部一港口,一六四三年曾是法国彼劳芳王朝孔德家族同西班牙人作战的战场。\\n\\n18'"
            ],
            "application/vnd.google.colaboratory.intrinsic+json": {
              "type": "string"
            }
          },
          "metadata": {},
          "execution_count": 9
        }
      ]
    },
    {
      "cell_type": "code",
      "source": [
        "all_text = []"
      ],
      "metadata": {
        "id": "bGr77y64SghZ"
      },
      "execution_count": 19,
      "outputs": []
    },
    {
      "cell_type": "code",
      "source": [
        "if extracted_text:\n",
        "  # Save the raw OCR result for this page\n",
        "  page_filename = f\"page_{os.path.basename(image_path).split('.')[0]}.txt\"\n",
        "  with open(page_filename, 'w', encoding='utf-8') as f:\n",
        "    f.write(extracted_text)\n",
        "  all_text.append(extracted_text)\n",
        "  print(f\"Saved raw OCR to {page_filename}\")"
      ],
      "metadata": {
        "colab": {
          "base_uri": "https://localhost:8080/"
        },
        "id": "xolwZsvJKXqt",
        "outputId": "0815926a-4849-4a0e-8c88-cb48bc1634b9"
      },
      "execution_count": 20,
      "outputs": [
        {
          "output_type": "stream",
          "name": "stdout",
          "text": [
            "Saved raw OCR to page_page33.txt\n"
          ]
        }
      ]
    },
    {
      "cell_type": "code",
      "source": [
        "all_text"
      ],
      "metadata": {
        "colab": {
          "base_uri": "https://localhost:8080/"
        },
        "id": "HUwRzGX4TN8a",
        "outputId": "34a3b214-71cd-4f17-a960-1b2078e2ae85"
      },
      "execution_count": 36,
      "outputs": [
        {
          "output_type": "execute_result",
          "data": {
            "text/plain": [
              "['第二章\\n\\n据说,孔德王子在罗科洛伊①一战的前夜酣睡了一宿:其一，因为他感到疲惫不堪;其二,他事先早就作好了一切必要的部署，并拟定了翌晨的作战方案。然而,堂·安保迪却仅仅知道,次日将有一场激烈的战斗,故心中极度不安,几乎整夜都在考虑对策。显然,汉视警告和威胁,照样主持婚礼的做法,他甚至连想都没敢想。对兰佐讲明实情,然后同他一起商量对付的办法……天主不容！那两个打手中的一个曾对他说过：\"不许走漏半点风声……否则……嗯！\"想至此,那个\"嗯\"字的菱鸣声再一次在堂·安保迪的耳畔作响,吓得他根本不敢考虑违抗命令,他甚至后悔同佩尔贝多亚谈起过此事。一走了事？可是去哪里呢？然后怎么办？困难重重,谈何容易！许许多多主意被可怜的教士一一否定,他躺在床上辗转反侧,难以入睡。他觉得,不管从哪一个方面分析,争取时间故意拖延兰佐的婚事万是上策。他突然想起,离开定下举办婚礼的日子已没剩下几天了,如果能将兰佐这小子稳住,他就有两个月得以喘息的时间,在两个月里,事情可能会出现重要的转机。他再三琢磨,尽力想找一些借口搪塞兰佐。尽管那些借口似乎都显得有一点苍白,但他转眼一想心中又觉坦然,因为他自身的名望无形中给他的借口增加了不少分量,他丰富的阅历也为他制服一个无\\n\\n① 今法国东北部一港口,一六四三年曾是法国彼劳芳王朝孔德家族同西班牙人作战的战场。\\n\\n18',\n",
              " '知的青年提供了有利的条件。他自言自语道：\"让我们来分析一下，他心中惦记着恋人，可是我考虑的是保住自己的性命。显然，那件事情同我的切身利益有更大的利害关系，再说我要比他精明得多。亲爱的孩子，如果说你迫不及待地想结婚，我不愿多加评论，但是我可不想为你火中取栗。\"打定主意后，他的心情才稍稍平静下来，并终于合上了眼睛。在断断续续的睡眠中，做了一连串支离破碎的恶梦，看到了打手，棠·罗德里戈，兰佐，乡间小道，悬崖峭壁，逃跑，追踪，也听到了尖叫声和劈劈啪啪的枪声。\\n\\n对刚遭遇过灾难或不幸的人来说，梦醒时分是最令他伤感的时刻。当头脑一旦清醒过来，他的注意力总是回到往日宁静生活的回忆上。寰然间，迥异的现实如同不速之客一样鲁莽地闯入他的脑海，在瞬间形成的强烈反差让他深感痛心。在品尝了剧那间的苦涩之后，堂·安保迪立即在脑子里重新又过了一遍前天夜里定下的种种设想，并在进一步确定行动计划之前，就一些具体的做法作了补充。这时，他才走下床，忧心忡忡和煨躁不安地等待兰佐的到来。\\n\\n没过多久，罗兰佐（人人都管他叫兰佐）来了。事实上，他觉得是该去见教士的时候了，他面带笑容，步履匆匆但谨慎小心地出了门。他是一位年方二十的青年，就在那一天，他将同他心爱的姑娘结成伉俪。他自幼父母双亡，和他的父辈人一样，他也是一个纺丝工。从前，丝织工是一个工资收入较为丰厚的职业，到了兰佐那一代人，纺丝行业早已开始进入萧条期，但一个熟练工尚能靠收入维持一般的生活。由于纺丝行业越来越不景气，村子里不少人在许诺、优厚的待遇和高工资的诱惑下，纷纷外出去附近的地方做工，但留下来的工匠仍有不少活儿可干。再说，兰佐还有一小块耕地，在纺丝厂停工的时候，他和他请来的帮工可以在地里干活儿，所以，他的生活条件在当时应该说还是比较优越的。那一年，田里的庄稼歉收，且情况比前几年更为严重，到处笼罩着饥荒的阴影。兰\\n\\n19',\n",
              " '佐：我们的年轻人，自从看上了鲁齐娅之后，开始省吃俭用，已积攒下来的一些钱足以使他度过荒年。站在堂·安保迪面前的兰佐，身着礼服，帽檐上插着颜色各异的羽毛，裤袋口露出短剑端亮的把手，脸上的神情欢快、骄矜。必须说明的是，在当时，即使性情十分温和的男子也多少有点傲气。兰佐开朗、刚毅的性格同堂·安保迪犹豫不决、神秘莫测的神态形成了强烈的对比。\\n\\n兰佐自忖：\"他看上去忧心忡忡，好像有什么心事。\"然后他随即开口说：\"神甫，我想问一下，对您来说，我们什么时候去教堂更为合适。\"\\n\\n\"你指的是哪一天？\"\\n\\n\"什么哪一天，您不记得婚礼是定在今天的吗？\"\\n\\n\"今天？\"堂·安保迪反问道，仿佛第一次听说这件事情。\"今天，今天……让我想一想，今天我没空。\"\\n\\n\"今天您没空？这是怎么一回事？\"\\n\\n\"一则，今天我身体不适。\"\\n\\n\"噢，对此我感到很遗憾，可这只不过花费您一点点的时间，绝不会累着您……\"\\n\\n\"再说……\"\\n\\n\"再说什么？\"\\n\\n\"再说，事情发生了意外。\"\\n\\n\"意外？什么意外？\"\\n\\n\"你得没身处地为我想一想，像婚礼这一类事情，麻烦事特别多，有好多问题需要考虑的。我这人心肠又太好，总是想方设法满足别人的愿望，克服一切困难把事情办得顺顺当当的。到头来，还是有人指责我玩忽职守，有时候结局甚至更糟……\"\\n\\n\"看在上帝的分上，您不要把我悬在半空，有什么事您不妨如实相告。\"\\n\\n\"合法地举行一场婚礼得办理许许多多的手续，这你知道吗？\"\\n\\n20',\n",
              " '\"你是说，我也得了解这些手续的内容！\"兰佐惊愕地说道，\"这些天来，我被您搞得头晕目眩，现在不是一切都就绪了吗？该办的不是全办妥了吗？\"\\n\\n\"这只是你的想法。你现在耐心地听我说，我被人称作是一个玩忽职守的、可怜的傻瓜，因为我不让我的教民们遭罪。可你看……算了，现在我知道该说什么了。像我这样可怜的教士总是处于进退两难的尴尬境地，可怜的孩子，你为婚事急躁不安，我很同情你，可是我的上司……算了，有些事情我没法说。反正我们总是首当其冲。\"\\n\\n\"请您爽爽快快告诉我，我们究竟还有哪些手续需要办理。如果有的话，就按您说的，我们马上去办。\"\\n\\n\"你知道法定婚姻的障碍包括一些什么内容吗？\"\\n\\n\"我怎么能知道？\"\\n\\n\"约婚夫妇中有一方易人，一方的婚姻状况与事实不符，一方曾许下禁欲和保住贞操的心愿，近亲通婚，婚约有诈，双方宗教信仰不一，强迫成婚，牧师的圣职品级，一方有已婚史，一方隐瞒同另一方有直系亲属的血缘关系，一方同另一方的亲属有血缘关系……\"堂·安保迪开始板着指头用拉丁语对他一一数说。\\n\\n\"您是不是在逗我玩呢？\"年轻人打断他的话说，\"您不是想让我跟您学玄奥的拉丁语吧？\"\\n\\n\"我说，你要是不懂，就耐心听我给你解释。\"\\n\\n\"好吧！……\"\\n\\n\"得了，亲爱的兰佐，你别生气，我一定会尽力帮助你……我，我是想让你生活得幸福，我爱你。唉！……我知道你在生活中一切都很顺心，你还缺什么呢？可是你却心血来潮地想成亲……\"\\n\\n\"我的神甫先生，您这叫什么话？\"兰佐怒目圆睁，惊愕地大声打断他的话说道。\\n\\n\"我只不过是这么说说而已，你别发火，我只不过是随便说说\\n\\n21',\n",
              " '的。我想让你生活得幸福。\"\\n\"总而言之......\"\\n\"总而言之，我的孩子，我没有任何过错，法律又不是我制订的。在主持婚礼之前，我们确实有责任进行许许多多次的调查，以免节外生枝。\"\\n\"您别再在下说了，究竟出了什么事，您不能爽爽快快地告诉我吗？\"\\n\"你别发火，这样的事情不是我们两人站在这里能解决的。我也希望你的婚礼不会遇到太大的障碍。尽管这样，好多调查我们还得去做。有关的条文十分明确地规定：在宣布婚礼有效之前......\"\\n\"我说过我听不懂拉丁语。\"\\n\"可我得向你解释......\"\\n\"调查工作您不是已经都做完了吗？\"\\n\"对，事情本该如此，但现在尚有几项调查未完成。\"\\n\"为什么您不全调查完呢？您为什么对我说事情已经全办妥了呢？为什么我们还得等到......\"\\n\"喂，兰佐！我对你一片好意，可你反倒责备起我来了。为了能尽早定下你们的婚期，我已经尽了我的全力，但是......但是我现在遇上了......不，我无法告诉你实情。\"\\n\"依您看，我该怎么办？\"\\n\"你再耐心等几天。亲爱的孩子，耐心一点，就几天功夫，又不是让你等一辈子。\"\\n\"等几天？\"\\n\"看来，鱼儿已经上钩了，\"他自言自语道。然后，他伴装宽厚仁慈的样子对兰佐说：\"就十五天，与此同时，我再去想想办法......\"\\n\"十五天！这可真是一件新鲜事儿！迄今为止，所有的事情都',\n",
              " '是由您说了算。婚期是您定的，现在该举行婚礼了，您却对我说还要等十五天......\"，他提高了嗓门气呼呼地抢白道，一面伸出胳臂不断挥动拳头，天知道他还会说些什么蠢话。堂·安保迪一把抓住了他的另一只手，战战兢兢地劝说他道：\"得啦，得啦，看在上帝的分上，别生气了。我设法在一周以内......\"\\n\\n\"你叫我怎么去对鲁齐娅说？\"\\n\\n\"就说全是我的错。\"\\n\\n\"对流言飞语，我该作何解释？\"\\n\\n\"你就对大家说，全是我的错，因为我过于急躁，过于仁慈，你把责任全在我身上推。你还要我怎样说？得啦，你就耐心地等上一周吧。\"\\n\\n\"以后不会再钻出另外的问题了吧？\"\\n\\n\"我看不会......\"\\n\\n\"好吧，我就耐心地等待一星期。但您记住了，要是一星期之后您还编故事的话，我就不客气了。与此同时，请接受我对您的敬意。\"说罢，他随即离去，但行前，他一改往日谦恭的态度，在向堂·安保迪微微欠身行礼时，富有意味的眼神里少了一份常有的敬意。\\n\\n出门后，他平生第一回快快不乐地朝着他未婚妻的家走去，心里充满了愤恨。他一边走，眼前再次浮现同教区司铎谈话的情景，越想越觉得事情有点蹊跷。堂·安保迪在同他谈话时态度冷淡，神情尴尬，且讲话时吞吞吐吐、急躁不安，两只灰色的眼珠子一刻不停地在眼眶里打转，仿佛害怕万一自己说漏了嘴无法收场；不仅如此，他对早已定下的婚事样装不知，还不止一次地暗示事情发生了突变，但又不愿明说。这种种迹象不由得使兰佐心生疑窦；事情的真相同堂·安保迪编造的谎话肯定是两码事，这其中一定有诈。年轻人原打算折回去逼他吐露真言，但抬头瞥见走在他前面的佩尔贝多亚正欲拐入离她住的房子不远处的菜园子。见她正打开菜园的栅栏门，他忙叫住她，并加快脚步走上去在栅栏门前拦住她。',\n",
              " '停下步与她搭话，想从她那里打听到一些更为确切的消息。\\n\"早上好，佩尔贝多亚。我原以为今天对我们大家来说都是一个值得庆贺的好日子。\"\\n\"我可怜的兰佐，我们一切都得听从上帝的安排！\"\\n\"我求你帮个忙：那该死的神甫先生编造了几个我无法理解的理由，你倒是说给我听听，他为什么今天不能或不愿为我主持婚礼？\"\\n\"唉！你以为我会知道我主人心中的秘密吗？\"\\n听此话，兰佐心想：\"我早就说过，这其中一定有鬼。\"为了弄清真相，他接着又说：\"得啦，佩尔贝多亚，我们是好朋友，把你知道的都告诉我，你就帮一下我这个可怜的孩子。\"\\n\"出生贫穷是一件很不幸的事情，亲爱的兰佐。\"\\n\"你说得很对，\"他接着说，但是同时他觉得，对方讲话的语气更加证实了他心中的疑惑。他试图把谈话的内容引入正题，故说道：\"你说得很对，但是神甫应该帮穷人吗？\"\\n\"你听我说，兰佐，我什么也不能说，因为......因为我一无所知，但我可以向你保证，我的主人对你或其他人都没有任何恶意，事情搞成这样并不是他的过错。\"\\n\"那你说是谁的过错？\"兰佐伴装漫不经心地反问她，同时竖起两耳，志志不安地等待着她的回答。\\n\"我已对你说过，我什么也不知道......但是我得替我的主人讲几句公道话，每当听到有人说他故意伤害别人，我心里总感到很不好受。可怜的人！他唯一的过失就是待人过于宽厚。当然，世上确有恶棍、暴徒和不敬畏上帝的无赖......\"\\n兰佐心中思忖，堂·安保迪的上司不可能是恶棍或暴徒。\"得啦，\"他接着往下说，\"告诉我此人是谁，\"一面勉力抑制住心中燃烧着的怒火。\\n\"啊！你想让我开口，可是我不能说，因为......我什么也不知',\n",
              " '道，那就是说，我已经发誓守口如瓶。即使你把我放在拉胶刑架上施刑，也不想从我口中掏出半句话来。再见，我得走了，我们两人都在这里浪费时间。\"说罢，她匆忙走过菜园，并随手关上了栅栏门。兰佐挥手向她致意，然后悄悄往后走，因为他不想让她察觉自己走的是哪条道。当他一走出她的听觉所及的范围，马上加快脚步，不一会就走到堂·安保迪私邸的大门口。他进了门后，径直朝客厅走去。不一会儿以前，他曾在客厅里同堂·安保迪道别，现在见他依旧呆在那里，便睁大眼睛一个箭步跑上前去。\\n\\n\"哎！哎！你又怎么啦？\"堂·安保迪怀问他。\\n\\n\"那个恶棍是谁？\"兰佐反问他，心中执意要得到个确切的回答。\"那个不愿看到我同鲁齐娅结为夫妇的恶棍到底是谁？\"\\n\\n\"你说什么？你说什么？你在说什么？\"可怜的教士惊恐万状，讲话结结巴巴，一张脸好像一块刚洗过泛白的抹布，显得十分松软。他嘴里嘟哝着，一边从宽大的椅子上一跃而起，大步朝门口冲过去。由于兰佐早已料到他会使出这一招，所以警惕地抢先一步跑去转动钥匙将门关上，然后把钥匙拔出来装入口袋。\\n\\n\"哈！哈！神甫先生，现在你还不愿开尊口吗？有关我婚事的具体情况，除了我以外，人人皆知。不行，我也得知道事情的真相。快告诉我，那人叫什么名字？\"\\n\\n\"兰佐！兰佐！我提请你注意自己的所作所为，千万别玷污了自己的灵魂。\"\\n\\n\"我现在立刻就想知道事情的真相。\"说至此，他的手无意识地摸了一下露在裤子口袋外面短剑的把手。\\n\\n\"仁慈的上帝啊！\"堂·安保迪喉音嘶哑地惊呼道。\\n\\n\"我现在就想知道真相。\"\\n\\n\"谁告诉你······\"\\n\\n\"不，不，别再说废话。一五一十地把所有的事情马上告诉我。\"\\n\\n25',\n",
              " '\"你想置我于死地吗？\"\\n\"我要知道我有权知道的事情。\"\\n\"我要是说了，我的性命就保不住了。难道你认为我不珍惜自己的性命吗？\"\\n\"那么，你就快说。\"\\n\\n在兰佐桐吓的目光的威逼之下，\"那么\"两字听来越发铿锵有力，堂·安保迪不得不彻底打消继续守口如瓶的念头。\\n\\n他说：\"你能向我保证和发誓永远不将我说的话告诉任何人吗？......\"\\n\\n\"如果您不马上把那人的名字说出来，我保证会干出蠢事来。\"\\n\\n再次听到兰佐威胁性的言词，堂·安保迪终于开口说：\"他是堂......，\"其脸色和眼神如同一个被江湖牙医用钳子撬开了嘴的病人。\\n\\n\"堂什么？\"兰佐问道，一边微微弯下身子，把嘴凑近他的耳朵，一边把手臂绷直，紧握双拳，似乎在帮助他的病人把话全部倒出来。\\n\\n\"堂·罗德里戈！\"他最后不得已说出了这个仅四个音节的名\\n\\n26',\n",
              " '字,但在几个辅音字母上却拖长了音,一方面由于他心中惴惴不安,另一方面他想趁自己智穷计尽之前在两种充满恐惧的重围中找到一个妥协的办法。在他正欲说出那人名字的一瞬间,他似乎企图临阵脱逃,把话重新缩回去。\\n\\n\"那条恶狗!\"兰佐大声吼道。\"他是怎么做的手脚？他是怎么对您说的？......\"\\n\\n\"什么怎么样,怎么样,\"堂·安保迪徐徐不平地对他说,他觉得自己为这事已作出了很大的牺牲,可现在却仿佛成了横权人。\"你问我怎么样,是不是？但愿我遭上的倒霉事也会落在你的头上,到那时你脑子里就不会有这么多古怪的念头了。再说,我与这件事毫不相干。\"说至此,他开始肯人听闻地描述起遇见那两个亡命之徒的可怕经过,但越往下讲,越觉得自己无法再抑制住因恐惧而隐藏和积压在心中的怒火。但是,当他看到兰佐满脸的惊愕和慌乱,低垂着头纹丝不动地站在那里,他十分得意地继续说道:\"你干得太漂亮了！你帮了我一个大忙！你就这样戏弄你们的教士,一个真正的好人！而且在他的家中,一个神圣不可侵犯的地方！你真是一个英雄好汉！硬是撬开我的嘴,让我说出对你我两人都意味着灾难的那个名字。我之所以对你隐瞒是出于谨慎,是为了你好！现在你不是已经知道了事情的真相了吗？你打算如何发落我？......看在上帝的分上！这可不是闹着玩的。这不是什么对与错的问题,这是实力的较量。今天早上,我替你想出了一个好主意......喂！你立刻火冒三丈。我的建议对你我两人都有好处,可是你呢？不管怎样,你现在替我把门打开,然后把钥匙还给我。\"\\n\\n\"也许是我错了,\"兰佐语气缓和地回答道,但目光里却透露出对已被摘掉假面具的仇人的愤恨。\"也许是我错了,但是您打心里问,要是您处在我的地位......\"\\n\\n说罢,他从口袋里掏出钥匙走上前去开门,堂·安保迪紧随其后。见兰佐转动插入锁孔里的钥匙,堂·安保迪伸出右手头上的三\\n\\n27',\n",
              " '个指头想帮他,一面将嘴凑近他耳边,神情严肃、焦虑地对他说:\\n\"你得发誓......\"\\n\"也许是我错了,请您原谅,\"兰佐一面说,一面开门准备离去。\\n\"你得发誓......\"堂·安保迪重复道,微微颤抖的手紧紧抓住他的胳膊。\\n\"也许是我错了,\"兰佐再次说道,一面挣脱开他的手愤然离去。须臾之间,两人的这一场唇枪舌战宣告结束,它与可能持续数百年的文学和哲学等学科领域内的是非之争颇为相似,反正总是各执己见,莫衷一是。\\n\\n待兰佐匆匆离去后,堂·安保迪高声喊道:\"佩尔贝多亚!佩尔贝多亚!\"见无人应答,他顿时觉得整个世界快要塌下来似的。\\n\\n不止一次,比堂·安保迪职位高得多的要人也因身陷困境而不知所措,他们想出来的锦囊妙计不外乎伪装发烧,卧床不起。显然,他无须寻觅此类良策,因为在不知不觉之中,它已在他的脑海里闪现。前一天发生的事在他心中留下的余悸、不眠之夜的痛苦、在那一瞬间受到的惊吓以及对前途的忧惧,开始在他体内一起奏效。他坐在宽大的椅子上,气喘吁吁,昏昏沉沉,开始感到一股彻骨的寒气正向自己袭来。他望着自己的指甲呼息不已,一次又一次地呼叫着佩尔贝多亚的名字,微微颤抖的声音里充满了愤懑。\\n\\n她掀下夹着一棵很大的花椰菜终于来了,一张恬不知耻的脸上露出满不在乎的神情,似乎什么事也没有发生过。至于主仆两人对话中的抱怨、同情、指责、辩解以及诸如\"唯独你才可能将事情抖搂出来\"和\"我从没对人讲过\"等乱七八糟的话,我就不在此向读者一一赘述了。我只想告诉读者,堂·安保迪吩咐佩尔贝多亚门上大门,不管什么理由都不许将门打开,并对她说,要是有人叩门,就站在窗子后面回话说,神甫发烧已睡下了。他慢腾腾地上楼,每登上三级楼梯就叹息道:\"这下子我可完了!\"过了一会儿,他才真的宽衣上了床。至于他是否真的病倒,我们暂且按下不表。\\n\\n28',\n",
              " '与此同时，兰佐正大步流星地朝家中走去，虽然他尚未想好下一步该怎么做，但是心中已决定采取旁人可能觉得不可思议的可怕举动。 挑衅者，压迫者以及所有不管以什么方式用暴力对待他人的恶棍都是罪人，因为他们不仅伤害他人，而且还扭曲了被害者的灵魂。兰佐是一个秉性温和，纯朴的青年，他反对暴力，仇视一切欺诈行为。然而，此时此刻，他心中唯一的想法就是杀人报仇，心中仅有的念头就是如何找到一条迫使堂·罗德里戈就范的妙计。他很想跑至堂·罗德里戈的私宅，一把揪住他的衣领，然后······但他记得，那幢房子好比一座堡垒，里外都有打手严密把守，只有那些面熟的朋友和仆人才可以自由出入，也没有人会从头到脚地打量他们，而一个陌生的工匠不经检查根本无法入内。再说······在当地，几乎人人都认识他。他想象，自己拿着一把枪隐匿在一道窗笆后面静心守候，兴许那恶棍可能独自一人从那里经过。此时，深陷在想象狂喜中的他，耳畔突然传来一阵噔噔噔的脚步声，他悄悄地抬起头，瞥见了那恶棍的身影；他放平手中的火枪，瞄准好目标，扣响了扳机；那恶棍晃动了几下后倒在了地上，他大声地讯问他，然后沿着尽头的一条小路逃遁而去。\"那鲁齐娅怎么办？\"当她的名字在他的脑海里一幕幕可怕的景象中闪过，他所熟悉的，美好的往事候地闯进了他的记忆。他想起了自己的父母生前最后的音容笑貌，想起了天主，圣母和神灵；他还想起，多少回他曾经为自己是一个无罪的人而深感宽慰，多少回他听人谈起残忍的凶杀案时颤栗不已。此时，他从血淋淋的噩梦中醒来，心中充满了恐惧和内疚，但当他意识到这一切不过是他的想象而已，内心不由得感到莫大的欣喜。想起鲁齐娅，他心中不禁思潮汹涌：多少瑰丽的希望，多少美好的憧憬，多么令人心驰神往的未来宁静的生活，多么激动人心的那一天！可是，现在他们的婚事发生了意料不到的变化，他该怎样对她说呢？下一步他又该怎么做呢？如何才能挫败那恶棍的阴谋而使她成为自己的新娘呢？想至此，他头脑里突然掠过一']"
            ]
          },
          "metadata": {},
          "execution_count": 36
        }
      ]
    },
    {
      "cell_type": "code",
      "source": [
        "combined_text = \"\\n\\n\".join(all_text)"
      ],
      "metadata": {
        "id": "kaOa6VxYSqP7"
      },
      "execution_count": null,
      "outputs": []
    },
    {
      "cell_type": "code",
      "source": [
        "for x in range(175, 216):\n",
        "  image_path = f\"page{x}.jpg\"\n",
        "  extracted_text = ocr_with_claude(client, image_path)\n",
        "  if extracted_text:\n",
        "    # Save the raw OCR result for this page\n",
        "    page_filename = f\"page_{os.path.basename(image_path).split('.')[0]}.txt\".replace(\"page_page\", \"page\")\n",
        "    page_path = os.path.join(\"text\", page_filename)\n",
        "    with open(page_path, 'w', encoding='utf-8') as f:\n",
        "      f.write(extracted_text)\n",
        "    all_text.append(extracted_text)\n",
        "    print(f\"Saved raw OCR to {page_filename}\")\n"
      ],
      "metadata": {
        "colab": {
          "base_uri": "https://localhost:8080/"
        },
        "id": "LlQMdiNASp-8",
        "outputId": "8438382d-e325-4b12-f15d-72ee3820ad80"
      },
      "execution_count": 55,
      "outputs": [
        {
          "output_type": "stream",
          "name": "stdout",
          "text": [
            "Saved raw OCR to page175.txt\n",
            "Saved raw OCR to page176.txt\n",
            "Saved raw OCR to page177.txt\n",
            "Saved raw OCR to page178.txt\n",
            "Saved raw OCR to page179.txt\n",
            "Saved raw OCR to page180.txt\n",
            "Saved raw OCR to page181.txt\n",
            "Saved raw OCR to page182.txt\n",
            "Saved raw OCR to page183.txt\n",
            "Saved raw OCR to page184.txt\n",
            "Saved raw OCR to page185.txt\n",
            "Saved raw OCR to page186.txt\n",
            "Saved raw OCR to page187.txt\n",
            "Saved raw OCR to page188.txt\n",
            "Saved raw OCR to page189.txt\n",
            "Saved raw OCR to page190.txt\n",
            "Saved raw OCR to page191.txt\n",
            "Saved raw OCR to page192.txt\n",
            "Saved raw OCR to page193.txt\n",
            "Saved raw OCR to page194.txt\n",
            "Saved raw OCR to page195.txt\n",
            "Saved raw OCR to page196.txt\n",
            "Saved raw OCR to page197.txt\n",
            "Saved raw OCR to page198.txt\n",
            "Saved raw OCR to page199.txt\n",
            "Saved raw OCR to page200.txt\n",
            "Saved raw OCR to page201.txt\n",
            "Saved raw OCR to page202.txt\n",
            "Saved raw OCR to page203.txt\n",
            "Saved raw OCR to page204.txt\n",
            "Saved raw OCR to page205.txt\n",
            "Saved raw OCR to page206.txt\n",
            "Saved raw OCR to page207.txt\n",
            "Saved raw OCR to page208.txt\n",
            "Saved raw OCR to page209.txt\n",
            "Saved raw OCR to page210.txt\n",
            "Saved raw OCR to page211.txt\n",
            "Saved raw OCR to page212.txt\n",
            "Saved raw OCR to page213.txt\n",
            "Saved raw OCR to page214.txt\n",
            "Saved raw OCR to page215.txt\n"
          ]
        }
      ]
    },
    {
      "cell_type": "code",
      "source": [
        "import zipfile\n",
        "source_dir = os.path.abspath(\"text\")\n",
        "\n",
        "with zipfile.ZipFile(\"pages.zip\", 'w', zipfile.ZIP_DEFLATED) as zipf:\n",
        "        # Walk through all files and subdirectories\n",
        "        for root, dirs, files in os.walk(\"text\"):\n",
        "            for file in files:\n",
        "                file_path = os.path.join(root, file)\n",
        "                # Calculate the relative path for the archive structure\n",
        "                arcname = os.path.relpath(file_path, os.path.dirname(source_dir))\n",
        "                zipf.write(file_path, arcname)"
      ],
      "metadata": {
        "id": "Ux1lgRlYe8Ho"
      },
      "execution_count": 56,
      "outputs": []
    }
  ]
}